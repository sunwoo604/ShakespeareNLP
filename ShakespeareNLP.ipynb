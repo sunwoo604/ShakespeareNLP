{
 "cells": [
  {
   "cell_type": "code",
   "execution_count": 1,
   "id": "f7fb1bf0",
   "metadata": {},
   "outputs": [],
   "source": [
    "import pandas as pd\n",
    "import numpy as np"
   ]
  },
  {
   "cell_type": "code",
   "execution_count": 2,
   "id": "2dfec964",
   "metadata": {},
   "outputs": [],
   "source": [
    "data = []\n",
    "temp = []\n",
    "for i in open('shakespeare.txt'):\n",
    "    s = i.lower().lstrip()\n",
    "    if len(s.split())<2:\n",
    "        if len(temp) >0:\n",
    "            data.append(temp)\n",
    "        temp = []\n",
    "        continue\n",
    "    temp.append(s)\n",
    "data.append(temp)"
   ]
  },
  {
   "cell_type": "code",
   "execution_count": 3,
   "id": "75be32d9",
   "metadata": {},
   "outputs": [
    {
     "data": {
      "text/plain": [
       "154"
      ]
     },
     "execution_count": 3,
     "metadata": {},
     "output_type": "execute_result"
    }
   ],
   "source": [
    "len(data)"
   ]
  },
  {
   "cell_type": "code",
   "execution_count": 4,
   "id": "b1b69d15",
   "metadata": {},
   "outputs": [],
   "source": [
    "from nltk.corpus.reader.api import *\n",
    "from nltk.corpus.reader.util import *\n",
    "from nltk.util import Index"
   ]
  },
  {
   "cell_type": "code",
   "execution_count": 5,
   "id": "757dfd20",
   "metadata": {},
   "outputs": [],
   "source": [
    "from nltk.corpus import cmudict\n",
    "from nltk.tokenize import sent_tokenize,wordpunct_tokenize"
   ]
  },
  {
   "cell_type": "code",
   "execution_count": 6,
   "id": "3da9013c",
   "metadata": {},
   "outputs": [],
   "source": [
    "import nltk\n",
    "import string"
   ]
  },
  {
   "cell_type": "code",
   "execution_count": 7,
   "id": "9871cca9",
   "metadata": {
    "scrolled": true
   },
   "outputs": [
    {
     "name": "stderr",
     "output_type": "stream",
     "text": [
      "[nltk_data] Downloading package cmudict to /home/suk012/nltk_data...\n",
      "[nltk_data]   Package cmudict is already up-to-date!\n"
     ]
    },
    {
     "data": {
      "text/plain": [
       "True"
      ]
     },
     "execution_count": 7,
     "metadata": {},
     "output_type": "execute_result"
    }
   ],
   "source": [
    "nltk.download('cmudict')"
   ]
  },
  {
   "cell_type": "code",
   "execution_count": 8,
   "id": "fae4c297",
   "metadata": {},
   "outputs": [],
   "source": [
    "cd = cmudict.dict()"
   ]
  },
  {
   "cell_type": "code",
   "execution_count": 9,
   "id": "0a9c6ccc",
   "metadata": {
    "scrolled": true
   },
   "outputs": [
    {
     "name": "stdout",
     "output_type": "stream",
     "text": [
      "from\n",
      "['F', 'R', 'AH1', 'M']\n",
      "fairest\n",
      "['F', 'EH1', 'R', 'IH0', 'S', 'T']\n",
      "creatures\n",
      "['K', 'R', 'IY1', 'CH', 'ER0', 'Z']\n",
      "we\n",
      "['W', 'IY1']\n",
      "desire\n",
      "['D', 'IH0', 'Z', 'AY1', 'ER0']\n",
      "increase\n",
      "['IH0', 'N', 'K', 'R', 'IY1', 'S']\n"
     ]
    }
   ],
   "source": [
    "for i in data[0][0].split():\n",
    "    temp = i.translate(str.maketrans('', '', string.punctuation))\n",
    "    print(temp)\n",
    "    print(cd[temp][0])"
   ]
  },
  {
   "cell_type": "code",
   "execution_count": 10,
   "id": "abe05684",
   "metadata": {},
   "outputs": [],
   "source": [
    "##syllable tokenization"
   ]
  },
  {
   "cell_type": "code",
   "execution_count": 11,
   "id": "bb77f33c",
   "metadata": {},
   "outputs": [],
   "source": [
    "syllDict = {}\n",
    "for i in open('Syllable_dictionary.txt'):\n",
    "    temp = i.split()\n",
    "    syllDict[temp[0]] = temp[1]"
   ]
  },
  {
   "cell_type": "code",
   "execution_count": 55,
   "id": "c50823f6",
   "metadata": {},
   "outputs": [],
   "source": [
    "words = []\n",
    "for d in data:\n",
    "    for i in d:\n",
    "        words+=wordpunct_tokenize(i)"
   ]
  },
  {
   "cell_type": "code",
   "execution_count": 56,
   "id": "2a086d62",
   "metadata": {},
   "outputs": [],
   "source": [
    "words=(list(set(words)))+['\\n']"
   ]
  },
  {
   "cell_type": "code",
   "execution_count": 57,
   "id": "f07a1d90",
   "metadata": {},
   "outputs": [],
   "source": [
    "words_idx = {w:i for i,w in enumerate(words)}\n",
    "idx_words = {i:w for i,w in enumerate(words)}"
   ]
  },
  {
   "cell_type": "code",
   "execution_count": 58,
   "id": "a8770ed2",
   "metadata": {},
   "outputs": [],
   "source": [
    "data_word = []\n",
    "for d in data:\n",
    "    temp = []\n",
    "    for i in d:\n",
    "        temp+=wordpunct_tokenize(i)+['\\n']\n",
    "    data_word.append(temp)"
   ]
  },
  {
   "cell_type": "code",
   "execution_count": 59,
   "id": "f851a489",
   "metadata": {},
   "outputs": [],
   "source": [
    "for i,d in enumerate(data_word):\n",
    "    temp = []\n",
    "    for w in d:\n",
    "        temp.append(words_idx[w])\n",
    "    data_word[i] = temp"
   ]
  },
  {
   "cell_type": "code",
   "execution_count": 68,
   "id": "84654ea7",
   "metadata": {},
   "outputs": [],
   "source": [
    "syll_words = []\n",
    "for d in words:\n",
    "    temp = []\n",
    "    for i in words:\n",
    "        if i in syllDict:\n",
    "            temp.append(int(syllDict[i][-1]))\n",
    "        else:\n",
    "            temp.append(0)\n",
    "    syll_words.append(temp)"
   ]
  },
  {
   "cell_type": "code",
   "execution_count": 12,
   "id": "ad546993",
   "metadata": {},
   "outputs": [],
   "source": [
    "## character level RNN"
   ]
  },
  {
   "cell_type": "code",
   "execution_count": 13,
   "id": "57ff1bae",
   "metadata": {},
   "outputs": [],
   "source": [
    "chars = set()\n",
    "for i in data:\n",
    "    temp = \"\"\n",
    "    for j in i:\n",
    "        temp=temp+j\n",
    "    chars = chars.union(set(list(temp)))\n",
    "chars = sorted(chars)"
   ]
  },
  {
   "cell_type": "code",
   "execution_count": 14,
   "id": "9b4f382b",
   "metadata": {},
   "outputs": [],
   "source": [
    "char_to_ix = { ch:i for i,ch in enumerate(chars) }\n",
    "ix_to_char = { i:ch for i,ch in enumerate(chars) }"
   ]
  },
  {
   "cell_type": "code",
   "execution_count": 15,
   "id": "2b043fa2",
   "metadata": {},
   "outputs": [],
   "source": [
    "import numpy as np\n",
    "import torch\n",
    "import torch.nn as nn\n",
    "import torch.nn.functional as F\n",
    "from tqdm import tqdm\n",
    "from torch.distributions import Categorical"
   ]
  },
  {
   "cell_type": "code",
   "execution_count": 16,
   "id": "75d34c25",
   "metadata": {},
   "outputs": [],
   "source": [
    "device = torch.device('cuda')"
   ]
  },
  {
   "cell_type": "code",
   "execution_count": 17,
   "id": "bee621db",
   "metadata": {},
   "outputs": [],
   "source": [
    "dataset = []\n",
    "for i, s in enumerate(data):\n",
    "    \n",
    "    temp =\"\"\n",
    "    for l in s:\n",
    "        temp+=l\n",
    "    temp = list(temp)\n",
    "    for j, ch in enumerate(temp):\n",
    "        temp[j] = char_to_ix[ch]\n",
    "    dataset.append(temp)"
   ]
  },
  {
   "cell_type": "code",
   "execution_count": 18,
   "id": "32baede6",
   "metadata": {},
   "outputs": [],
   "source": [
    "class RNN(nn.Module):\n",
    "    def __init__(self, input_size, embedding_size, output_size, hidden_size):\n",
    "        super(RNN, self).__init__()\n",
    "        self.embedding = nn.Embedding(input_size, embedding_size)\n",
    "        self.rnn = nn.LSTM(input_size=input_size, hidden_size=hidden_size)\n",
    "        self.decoder = nn.Linear(hidden_size, output_size)\n",
    "        #self.softmax = nn.Softmax()\n",
    "    \n",
    "    def forward(self, input_seq, hidden_state):\n",
    "        embedding = self.embedding(input_seq)\n",
    "        output, hidden_state = self.rnn(embedding, hidden_state)\n",
    "        output = self.decoder(output)\n",
    "        #output = self.softmax(output)\n",
    "        return output, (hidden_state[0], hidden_state[1])"
   ]
  },
  {
   "cell_type": "code",
   "execution_count": 19,
   "id": "08083d54",
   "metadata": {},
   "outputs": [],
   "source": [
    "model = RNN(input_size=len(chars), embedding_size=len(chars), output_size=len(chars), hidden_size=256).to(device)\n",
    "loss_fn = nn.CrossEntropyLoss()\n",
    "optimizer = torch.optim.Adam(model.parameters())#, lr=1e-4)"
   ]
  },
  {
   "cell_type": "code",
   "execution_count": 20,
   "id": "aa8a3593",
   "metadata": {},
   "outputs": [
    {
     "name": "stderr",
     "output_type": "stream",
     "text": [
      "100%|██████████| 154/154 [01:22<00:00,  1.88it/s]\n"
     ]
    },
    {
     "name": "stdout",
     "output_type": "stream",
     "text": [
      "Epoch: 1 \t Loss: 1.78435286\n"
     ]
    },
    {
     "name": "stderr",
     "output_type": "stream",
     "text": [
      "100%|██████████| 154/154 [01:21<00:00,  1.90it/s]\n"
     ]
    },
    {
     "name": "stdout",
     "output_type": "stream",
     "text": [
      "Epoch: 2 \t Loss: 1.58508797\n"
     ]
    },
    {
     "name": "stderr",
     "output_type": "stream",
     "text": [
      "100%|██████████| 154/154 [01:21<00:00,  1.89it/s]\n"
     ]
    },
    {
     "name": "stdout",
     "output_type": "stream",
     "text": [
      "Epoch: 3 \t Loss: 1.51682984\n"
     ]
    },
    {
     "name": "stderr",
     "output_type": "stream",
     "text": [
      "100%|██████████| 154/154 [01:22<00:00,  1.86it/s]\n"
     ]
    },
    {
     "name": "stdout",
     "output_type": "stream",
     "text": [
      "Epoch: 4 \t Loss: 1.47270482\n"
     ]
    },
    {
     "name": "stderr",
     "output_type": "stream",
     "text": [
      "100%|██████████| 154/154 [01:26<00:00,  1.78it/s]\n"
     ]
    },
    {
     "name": "stdout",
     "output_type": "stream",
     "text": [
      "Epoch: 5 \t Loss: 1.43533315\n"
     ]
    },
    {
     "name": "stderr",
     "output_type": "stream",
     "text": [
      "100%|██████████| 154/154 [01:20<00:00,  1.91it/s]\n"
     ]
    },
    {
     "name": "stdout",
     "output_type": "stream",
     "text": [
      "Epoch: 6 \t Loss: 1.40608571\n"
     ]
    },
    {
     "name": "stderr",
     "output_type": "stream",
     "text": [
      "100%|██████████| 154/154 [00:59<00:00,  2.60it/s]\n"
     ]
    },
    {
     "name": "stdout",
     "output_type": "stream",
     "text": [
      "Epoch: 7 \t Loss: 1.37885479\n"
     ]
    },
    {
     "name": "stderr",
     "output_type": "stream",
     "text": [
      "100%|██████████| 154/154 [01:22<00:00,  1.88it/s]\n"
     ]
    },
    {
     "name": "stdout",
     "output_type": "stream",
     "text": [
      "Epoch: 8 \t Loss: 1.35620974\n"
     ]
    },
    {
     "name": "stderr",
     "output_type": "stream",
     "text": [
      "100%|██████████| 154/154 [01:21<00:00,  1.90it/s]\n"
     ]
    },
    {
     "name": "stdout",
     "output_type": "stream",
     "text": [
      "Epoch: 9 \t Loss: 1.33539440\n"
     ]
    },
    {
     "name": "stderr",
     "output_type": "stream",
     "text": [
      "100%|██████████| 154/154 [01:24<00:00,  1.82it/s]\n"
     ]
    },
    {
     "name": "stdout",
     "output_type": "stream",
     "text": [
      "Epoch: 10 \t Loss: 1.31951436\n"
     ]
    },
    {
     "name": "stderr",
     "output_type": "stream",
     "text": [
      "100%|██████████| 154/154 [01:21<00:00,  1.90it/s]\n"
     ]
    },
    {
     "name": "stdout",
     "output_type": "stream",
     "text": [
      "Epoch: 11 \t Loss: 1.30361331\n"
     ]
    },
    {
     "name": "stderr",
     "output_type": "stream",
     "text": [
      "100%|██████████| 154/154 [01:22<00:00,  1.86it/s]\n"
     ]
    },
    {
     "name": "stdout",
     "output_type": "stream",
     "text": [
      "Epoch: 12 \t Loss: 1.29312238\n"
     ]
    },
    {
     "name": "stderr",
     "output_type": "stream",
     "text": [
      "100%|██████████| 154/154 [01:23<00:00,  1.85it/s]\n"
     ]
    },
    {
     "name": "stdout",
     "output_type": "stream",
     "text": [
      "Epoch: 13 \t Loss: 1.27742322\n"
     ]
    },
    {
     "name": "stderr",
     "output_type": "stream",
     "text": [
      "100%|██████████| 154/154 [01:25<00:00,  1.80it/s]\n"
     ]
    },
    {
     "name": "stdout",
     "output_type": "stream",
     "text": [
      "Epoch: 14 \t Loss: 1.26237014\n"
     ]
    },
    {
     "name": "stderr",
     "output_type": "stream",
     "text": [
      "100%|██████████| 154/154 [01:24<00:00,  1.82it/s]\n"
     ]
    },
    {
     "name": "stdout",
     "output_type": "stream",
     "text": [
      "Epoch: 15 \t Loss: 1.25514320\n"
     ]
    },
    {
     "name": "stderr",
     "output_type": "stream",
     "text": [
      "100%|██████████| 154/154 [01:24<00:00,  1.82it/s]\n"
     ]
    },
    {
     "name": "stdout",
     "output_type": "stream",
     "text": [
      "Epoch: 16 \t Loss: 1.24616098\n"
     ]
    },
    {
     "name": "stderr",
     "output_type": "stream",
     "text": [
      "100%|██████████| 154/154 [01:24<00:00,  1.82it/s]\n"
     ]
    },
    {
     "name": "stdout",
     "output_type": "stream",
     "text": [
      "Epoch: 17 \t Loss: 1.23942875\n"
     ]
    },
    {
     "name": "stderr",
     "output_type": "stream",
     "text": [
      "100%|██████████| 154/154 [01:23<00:00,  1.84it/s]\n"
     ]
    },
    {
     "name": "stdout",
     "output_type": "stream",
     "text": [
      "Epoch: 18 \t Loss: 1.23226866\n"
     ]
    },
    {
     "name": "stderr",
     "output_type": "stream",
     "text": [
      "100%|██████████| 154/154 [01:24<00:00,  1.82it/s]\n"
     ]
    },
    {
     "name": "stdout",
     "output_type": "stream",
     "text": [
      "Epoch: 19 \t Loss: 1.22587442\n"
     ]
    },
    {
     "name": "stderr",
     "output_type": "stream",
     "text": [
      "100%|██████████| 154/154 [01:24<00:00,  1.82it/s]"
     ]
    },
    {
     "name": "stdout",
     "output_type": "stream",
     "text": [
      "Epoch: 20 \t Loss: 1.21745815\n"
     ]
    },
    {
     "name": "stderr",
     "output_type": "stream",
     "text": [
      "\n"
     ]
    }
   ],
   "source": [
    "epochs = 20\n",
    "\n",
    "for i_epoch in range(1, epochs+1):\n",
    "        \n",
    "    n = 0\n",
    "    running_loss = 0\n",
    "    for d in tqdm(range(len(dataset))):\n",
    "        d = torch.tensor(dataset[d]).to(device)\n",
    "        for i in range(40,len(d)-1,7):\n",
    "            hidden_state = None\n",
    "            input_seq = d[i-40 : i]\n",
    "            target_seq = d[i-40+1 : i+1]\n",
    "            # forward pass\n",
    "            output, _ = model(input_seq, hidden_state)\n",
    "            #print(input_seq,target_seq,output)\n",
    "\n",
    "            # compute loss\n",
    "            loss = loss_fn(torch.squeeze(output), torch.squeeze(target_seq)) \n",
    "            running_loss += loss.item()\n",
    "            n += 1\n",
    "\n",
    "            # compute gradients and take optimizer step\n",
    "            optimizer.zero_grad()\n",
    "            loss.backward()\n",
    "            optimizer.step()\n",
    "\n",
    "        # print loss after every epoch\n",
    "    print(\"Epoch: {0} \\t Loss: {1:.8f}\".format(i_epoch, running_loss/n))"
   ]
  },
  {
   "cell_type": "code",
   "execution_count": 21,
   "id": "59a0bd5f",
   "metadata": {},
   "outputs": [
    {
     "name": "stderr",
     "output_type": "stream",
     "text": [
      "/tmp/ipykernel_964/1361728061.py:7: UserWarning: To copy construct from a tensor, it is recommended to use sourceTensor.clone().detach() or sourceTensor.clone().detach().requires_grad_(True), rather than torch.tensor(sourceTensor).\n",
      "  prompt = torch.tensor(prompt).to(device).long()\n"
     ]
    },
    {
     "name": "stdout",
     "output_type": "stream",
     "text": [
      "and by and loving the brave mine eyes to\n",
      "\n",
      "for T: 0.25\n",
      "\n",
      " prevawers i am not enloten,\n",
      "that i do i\n",
      "\n",
      "for T: 0.75\n",
      "\n",
      " hall eyes the store,\n",
      "and live, the lere\n",
      "\n",
      "for T: 1\n",
      "\n",
      "rtai advanfuupt it,\n",
      "and i bold the stray\n",
      "\n",
      "for T: 1.5\n",
      "\n"
     ]
    }
   ],
   "source": [
    "prompt = \"shall i compare thee to a summer's day\\n\"\n",
    "prompt = list(prompt)\n",
    "for i, ch in enumerate(prompt):\n",
    "    prompt[i] = char_to_ix[ch]\n",
    "for t in [0.25,0.75,1,1.5]:\n",
    "    with torch.no_grad():\n",
    "        prompt = torch.tensor(prompt).to(device).long()\n",
    "        hidden_state = None\n",
    "\n",
    "        for _ in range(40):\n",
    "\n",
    "             # forward pass\n",
    "            output, hidden_state = model(prompt, hidden_state)\n",
    "\n",
    "            # construct categorical distribution and sample a character\n",
    "            output = F.softmax(torch.squeeze(output[-1]/t), dim=0)\n",
    "            dist = Categorical(output)\n",
    "            index = dist.sample()\n",
    "\n",
    "            # print the sampled character\n",
    "            print(ix_to_char[index.item()], end='')\n",
    "\n",
    "            # next input is current output\n",
    "            prompt = torch.cat([prompt[1:], index.unsqueeze(0)])\n",
    "        print()\n",
    "        print()\n",
    "        print('for T: '+str(t))\n",
    "        print()\n"
   ]
  },
  {
   "cell_type": "code",
   "execution_count": 22,
   "id": "97efe414",
   "metadata": {},
   "outputs": [],
   "source": [
    "torch.save(model.state_dict(), 'weights.pt')"
   ]
  },
  {
   "cell_type": "code",
   "execution_count": 23,
   "id": "e92c6ddd",
   "metadata": {},
   "outputs": [],
   "source": [
    "#3"
   ]
  },
  {
   "cell_type": "code",
   "execution_count": 29,
   "id": "4ff5001f",
   "metadata": {},
   "outputs": [],
   "source": [
    "class wordRNN(nn.Module):\n",
    "    def __init__(self, input_size, embedding_size, output_size, hidden_size):\n",
    "        super(wordRNN, self).__init__()\n",
    "        self.embedding = nn.Embedding(input_size, embedding_size)\n",
    "\n",
    "        self.rnn = nn.LSTM(input_size=embedding_size, hidden_size=hidden_size)\n",
    "        self.decoder = nn.Linear(hidden_size, output_size)\n",
    "    \n",
    "    def forward(self, input_seq, hidden_state):\n",
    "        embedding = self.embedding(input_seq)\n",
    "        output, hidden_state = self.rnn(embedding, hidden_state)\n",
    "        output = self.decoder(output)\n",
    "        return output, (hidden_state[0], hidden_state[1])"
   ]
  },
  {
   "cell_type": "code",
   "execution_count": 30,
   "id": "6c571074",
   "metadata": {},
   "outputs": [],
   "source": [
    "wordmodel = wordRNN(input_size=len(words), \n",
    "            embedding_size=300, \n",
    "            output_size= len(words), \n",
    "            hidden_size=256).to(device)\n",
    "\n",
    "loss_fn = nn.CrossEntropyLoss()\n",
    "optimizer = torch.optim.Adam(wordmodel.parameters())"
   ]
  },
  {
   "cell_type": "code",
   "execution_count": 31,
   "id": "49ddf7d6",
   "metadata": {},
   "outputs": [
    {
     "name": "stderr",
     "output_type": "stream",
     "text": [
      "100%|██████████| 20/20 [32:31<00:00, 97.60s/it] \n"
     ]
    }
   ],
   "source": [
    "epochs = 20\n",
    "losses = []\n",
    "for i_epoch in tqdm(range(1, epochs+1)):\n",
    "        \n",
    "    n = 0\n",
    "    running_loss = 0\n",
    "    for d in data_word:\n",
    "        d=torch.tensor(d).to(device)\n",
    "        for i in range(10,len(d)-1):\n",
    "            hidden_state = None\n",
    "            input_seq = d[i-10 : i]\n",
    "            target_seq = d[i-10+1 : i+1]\n",
    "\n",
    "            # forward pass\n",
    "            output, _ = wordmodel(input_seq, hidden_state)\n",
    "            # compute loss\n",
    "            loss = loss_fn(torch.squeeze(output), torch.squeeze(target_seq)) \n",
    "            running_loss += loss\n",
    "            n += 1\n",
    "\n",
    "            # compute gradients and take optimizer step\n",
    "            optimizer.zero_grad()\n",
    "            loss.backward()\n",
    "            optimizer.step()\n",
    "    losses.append(running_loss/n)   \n",
    "    # print loss after every epoch\n",
    "    #perplexity  = np.exp(running_loss)/n\n",
    "    #print(\"Epoch: {0} \\t Loss: {1:.8f} \\t Perplexity: {1:.8f}\".format(i_epoch, running_loss/5, perplexity))"
   ]
  },
  {
   "cell_type": "code",
   "execution_count": 32,
   "id": "6ff7691d",
   "metadata": {},
   "outputs": [
    {
     "data": {
      "text/plain": [
       "[tensor(4.6956, device='cuda:0', grad_fn=<DivBackward0>),\n",
       " tensor(4.5918, device='cuda:0', grad_fn=<DivBackward0>),\n",
       " tensor(4.3085, device='cuda:0', grad_fn=<DivBackward0>),\n",
       " tensor(3.9923, device='cuda:0', grad_fn=<DivBackward0>),\n",
       " tensor(3.7139, device='cuda:0', grad_fn=<DivBackward0>),\n",
       " tensor(3.4444, device='cuda:0', grad_fn=<DivBackward0>),\n",
       " tensor(3.2190, device='cuda:0', grad_fn=<DivBackward0>),\n",
       " tensor(3.0107, device='cuda:0', grad_fn=<DivBackward0>),\n",
       " tensor(2.8394, device='cuda:0', grad_fn=<DivBackward0>),\n",
       " tensor(2.6527, device='cuda:0', grad_fn=<DivBackward0>),\n",
       " tensor(2.4890, device='cuda:0', grad_fn=<DivBackward0>),\n",
       " tensor(2.3425, device='cuda:0', grad_fn=<DivBackward0>),\n",
       " tensor(2.1953, device='cuda:0', grad_fn=<DivBackward0>),\n",
       " tensor(2.0557, device='cuda:0', grad_fn=<DivBackward0>),\n",
       " tensor(1.9446, device='cuda:0', grad_fn=<DivBackward0>),\n",
       " tensor(1.8176, device='cuda:0', grad_fn=<DivBackward0>),\n",
       " tensor(1.7171, device='cuda:0', grad_fn=<DivBackward0>),\n",
       " tensor(1.6110, device='cuda:0', grad_fn=<DivBackward0>),\n",
       " tensor(1.5316, device='cuda:0', grad_fn=<DivBackward0>),\n",
       " tensor(1.4502, device='cuda:0', grad_fn=<DivBackward0>)]"
      ]
     },
     "execution_count": 32,
     "metadata": {},
     "output_type": "execute_result"
    }
   ],
   "source": [
    "losses"
   ]
  },
  {
   "cell_type": "code",
   "execution_count": 33,
   "id": "f4ea7584",
   "metadata": {},
   "outputs": [
    {
     "name": "stderr",
     "output_type": "stream",
     "text": [
      "/tmp/ipykernel_964/3346784667.py:8: UserWarning: To copy construct from a tensor, it is recommended to use sourceTensor.clone().detach() or sourceTensor.clone().detach().requires_grad_(True), rather than torch.tensor(sourceTensor).\n",
      "  prompt = torch.tensor(prompt).to(device).long()\n"
     ]
    },
    {
     "name": "stdout",
     "output_type": "stream",
     "text": [
      "? \n",
      " whence hast thou this becoming of things ill , \n",
      " that in the very refuse of thy deeds , \n",
      " there is such strength and warrantise of skill , \n",
      " that in my mind thy worst all best exceeds ? \n",
      " who taught thee how to make me \n",
      "\n",
      "for T: 0.25\n",
      "\n",
      "love thee more , \n",
      " the more perjured , murd ' rous , bloody full of blame , \n",
      " savage , extreme , rude , cruel , not to love ' s so blessed - fair that fears for fair subject , blessing in her sake ? \n",
      " no , \n",
      "\n",
      "for T: 0.75\n",
      "\n",
      "let me be obsequious in thy heart , \n",
      " that in thy face hath love put in my head , \n",
      " which more red to me her love , with tears thou keep ' st me blind , \n",
      " lest eyes well - seeing thy foul faults should find , \n",
      "\n",
      "for T: 1\n",
      "\n",
      "\n",
      " that her novel bases for let nature ' s this poor thee a they self ring ) the humble ' s fickle hour : \n",
      " who hast by waning grown , and therein show ' st , \n",
      " thy lovers withering , as my poor april i lose through \n",
      "\n",
      "for T: 1.5\n",
      "\n"
     ]
    }
   ],
   "source": [
    "prompt = \"shall i compare thee to a summer's day\\n\"\n",
    "prompt = wordpunct_tokenize(prompt)\n",
    "for i, ch in enumerate(prompt):\n",
    "    prompt[i] = words_idx[ch]\n",
    "\n",
    "for T in [0.25,0.75,1,1.5]:\n",
    "    with torch.no_grad():\n",
    "        prompt = torch.tensor(prompt).to(device).long()\n",
    "        hidden_state = None\n",
    "\n",
    "        for _ in range(50):\n",
    "\n",
    "             # forward pass\n",
    "            output, hidden_state = wordmodel(prompt, hidden_state)\n",
    "\n",
    "            # construct categorical distribution and sample a character\n",
    "            output = F.softmax(torch.squeeze(output[-1]/T), dim=0)\n",
    "            dist = Categorical(output)\n",
    "            index = dist.sample()\n",
    "\n",
    "            # print the sampled character\n",
    "            print(idx_words[index.item()], end=' ')\n",
    "\n",
    "            # next input is current output\n",
    "            prompt = torch.cat([prompt[1:], index.unsqueeze(0)])\n",
    "        print()\n",
    "        print()\n",
    "        print('for T: '+str(T))\n",
    "        print()"
   ]
  },
  {
   "cell_type": "code",
   "execution_count": null,
   "id": "ae922b66",
   "metadata": {},
   "outputs": [],
   "source": [
    "torch.save(wordmodel.state_dict(), 'wordweights.pt')"
   ]
  },
  {
   "cell_type": "code",
   "execution_count": 40,
   "id": "06c343b6",
   "metadata": {},
   "outputs": [],
   "source": [
    "class wordRNN(nn.Module):\n",
    "    def __init__(self, input_size, num_layers, embedding_size, output_size, hidden_size):\n",
    "        super(wordRNN, self).__init__()\n",
    "        self.embedding = nn.Embedding(input_size, embedding_size)\n",
    "\n",
    "        self.rnn = nn.LSTM(input_size=embedding_size, hidden_size=hidden_size)\n",
    "        self.rnn_layers = nn.ModuleList([\n",
    "            nn.LSTM(input_size=hidden_size, hidden_size=hidden_size)\n",
    "            for _ in range(num_layers - 1)\n",
    "        ])\n",
    "        self.decoder = nn.Linear(hidden_size, output_size)\n",
    "    \n",
    "    def forward(self, input_seq, hidden_state):\n",
    "        embedding = self.embedding(input_seq)\n",
    "        output, hidden_state = self.rnn(embedding, hidden_state)\n",
    "        for rnn_layer in self.rnn_layers:\n",
    "            output, hidden_state = rnn_layer(output, hidden_state)\n",
    "        output = self.decoder(output)\n",
    "        return output, (hidden_state[0], hidden_state[1])"
   ]
  },
  {
   "cell_type": "code",
   "execution_count": 41,
   "id": "b203deb5",
   "metadata": {},
   "outputs": [],
   "source": [
    "wordmodel2 = wordRNN(input_size=len(words), \n",
    "            num_layers = 3,         \n",
    "            embedding_size=300, \n",
    "            output_size= len(words), \n",
    "            hidden_size=256).to(device)\n",
    "\n",
    "loss_fn = nn.CrossEntropyLoss()\n",
    "optimizer = torch.optim.Adam(wordmodel2.parameters())"
   ]
  },
  {
   "cell_type": "code",
   "execution_count": 42,
   "id": "a59656f6",
   "metadata": {},
   "outputs": [
    {
     "name": "stderr",
     "output_type": "stream",
     "text": [
      "100%|██████████| 20/20 [16:25<00:00, 49.28s/it]\n"
     ]
    }
   ],
   "source": [
    "epochs = 20\n",
    "losses2 = []\n",
    "for i_epoch in tqdm(range(1, epochs+1)):\n",
    "        \n",
    "    n = 0\n",
    "    running_loss = 0\n",
    "    for d in data_word:\n",
    "        d=torch.tensor(d).to(device)\n",
    "        for i in range(10,len(d)-1,4):\n",
    "            hidden_state = None\n",
    "            input_seq = d[i-10 : i]\n",
    "            target_seq = d[i-10+1 : i+1]\n",
    "\n",
    "            # forward pass\n",
    "            output, _ = wordmodel2(input_seq, hidden_state)\n",
    "            # compute loss\n",
    "            loss = loss_fn(torch.squeeze(output), torch.squeeze(target_seq)) \n",
    "            running_loss += loss\n",
    "            n += 1\n",
    "\n",
    "            # compute gradients and take optimizer step\n",
    "            optimizer.zero_grad()\n",
    "            loss.backward()\n",
    "            optimizer.step()\n",
    "    losses2.append(running_loss/n)\n",
    "    # print loss after every epoch\n",
    "    #perplexity  = np.exp(running_loss)/n\n",
    "    #print(\"Epoch: {0} \\t Loss: {1:.8f} \\t Perplexity: {1:.8f}\".format(i_epoch, running_loss/5, perplexity))"
   ]
  },
  {
   "cell_type": "code",
   "execution_count": 44,
   "id": "492257eb",
   "metadata": {},
   "outputs": [
    {
     "data": {
      "text/plain": [
       "[tensor(5.4077, device='cuda:0', grad_fn=<DivBackward0>),\n",
       " tensor(4.3606, device='cuda:0', grad_fn=<DivBackward0>),\n",
       " tensor(3.7230, device='cuda:0', grad_fn=<DivBackward0>),\n",
       " tensor(3.1410, device='cuda:0', grad_fn=<DivBackward0>),\n",
       " tensor(2.6207, device='cuda:0', grad_fn=<DivBackward0>),\n",
       " tensor(2.1505, device='cuda:0', grad_fn=<DivBackward0>),\n",
       " tensor(1.7450, device='cuda:0', grad_fn=<DivBackward0>),\n",
       " tensor(1.4068, device='cuda:0', grad_fn=<DivBackward0>),\n",
       " tensor(1.1415, device='cuda:0', grad_fn=<DivBackward0>),\n",
       " tensor(0.9458, device='cuda:0', grad_fn=<DivBackward0>),\n",
       " tensor(0.7867, device='cuda:0', grad_fn=<DivBackward0>),\n",
       " tensor(0.6645, device='cuda:0', grad_fn=<DivBackward0>),\n",
       " tensor(0.5918, device='cuda:0', grad_fn=<DivBackward0>),\n",
       " tensor(0.5221, device='cuda:0', grad_fn=<DivBackward0>),\n",
       " tensor(0.4863, device='cuda:0', grad_fn=<DivBackward0>),\n",
       " tensor(0.4462, device='cuda:0', grad_fn=<DivBackward0>),\n",
       " tensor(0.4195, device='cuda:0', grad_fn=<DivBackward0>),\n",
       " tensor(0.3975, device='cuda:0', grad_fn=<DivBackward0>),\n",
       " tensor(0.3851, device='cuda:0', grad_fn=<DivBackward0>),\n",
       " tensor(0.3714, device='cuda:0', grad_fn=<DivBackward0>)]"
      ]
     },
     "execution_count": 44,
     "metadata": {},
     "output_type": "execute_result"
    }
   ],
   "source": [
    "losses2"
   ]
  },
  {
   "cell_type": "code",
   "execution_count": 43,
   "id": "7509d51a",
   "metadata": {},
   "outputs": [],
   "source": [
    "torch.save(wordmodel2.state_dict(), 'wordweights2.pt')"
   ]
  },
  {
   "cell_type": "code",
   "execution_count": 45,
   "id": "b5a47dc8",
   "metadata": {},
   "outputs": [
    {
     "name": "stdout",
     "output_type": "stream",
     "text": [
      "be \n",
      " to make thee lie , all ' s love ' s field , \n",
      " love ' s love , all men to misuse a store ' s discontent . \n",
      " for beauty doth tell , to bear his day . \n",
      " who beauty doth come , let in \n",
      "\n",
      "for T: 0.25\n",
      "\n",
      "my friend . \n",
      " that i may am , now is hanging not not , \n",
      " not were not abhor the clock which he which me , \n",
      " not reason , which he by heaven but more : \n",
      " not shall not live ' she hear in me . \n",
      " \n",
      "\n",
      "for T: 0.75\n",
      "\n",
      "o eyes the unworthiness are bear thy heart . \n",
      " that none , i say not that i am see thee how \n",
      " upon my friend are fell reason "
     ]
    },
    {
     "name": "stderr",
     "output_type": "stream",
     "text": [
      "/tmp/ipykernel_964/2416721394.py:8: UserWarning: To copy construct from a tensor, it is recommended to use sourceTensor.clone().detach() or sourceTensor.clone().detach().requires_grad_(True), rather than torch.tensor(sourceTensor).\n",
      "  prompt = torch.tensor(prompt).to(device).long()\n"
     ]
    },
    {
     "name": "stdout",
     "output_type": "stream",
     "text": [
      ": \n",
      " but that by vow ( such fair repair doth prove a ill , \n",
      " a brand votary still ' \n",
      "\n",
      "for T: 1\n",
      "\n",
      "s son , \n",
      " and grew must men , all men men prove most . \n",
      " even all my love away be oaths away so make thee this : \n",
      " then i shall not call thee give thee cruel \n",
      " to many thy hope broke , make bear \n",
      " in \n",
      "\n",
      "for T: 1.5\n",
      "\n"
     ]
    }
   ],
   "source": [
    "prompt = \"shall i compare thee to a summer's day\\n\"\n",
    "prompt = wordpunct_tokenize(prompt)\n",
    "for i, ch in enumerate(prompt):\n",
    "    prompt[i] = words_idx[ch]\n",
    "\n",
    "for T in [0.25,0.75,1,1.5]:\n",
    "    with torch.no_grad():\n",
    "        prompt = torch.tensor(prompt).to(device).long()\n",
    "        hidden_state = None\n",
    "\n",
    "        for _ in range(50):\n",
    "\n",
    "             # forward pass\n",
    "            output, hidden_state = wordmodel2(prompt, hidden_state)\n",
    "\n",
    "            # construct categorical distribution and sample a character\n",
    "            output = F.softmax(torch.squeeze(output[-1]/T), dim=0)\n",
    "            dist = Categorical(output)\n",
    "            index = dist.sample()\n",
    "\n",
    "            # print the sampled character\n",
    "            print(idx_words[index.item()], end=' ')\n",
    "\n",
    "            # next input is current output\n",
    "            prompt = torch.cat([prompt[1:], index.unsqueeze(0)])\n",
    "        print()\n",
    "        print()\n",
    "        print('for T: '+str(T))\n",
    "        print()"
   ]
  },
  {
   "cell_type": "code",
   "execution_count": 48,
   "id": "24c3221e",
   "metadata": {},
   "outputs": [],
   "source": [
    "import matplotlib.pyplot as plt"
   ]
  },
  {
   "cell_type": "code",
   "execution_count": 52,
   "id": "97ba645e",
   "metadata": {},
   "outputs": [],
   "source": [
    "for i,l in enumerate(losses):\n",
    "    losses[i] = float(l)"
   ]
  },
  {
   "cell_type": "code",
   "execution_count": 53,
   "id": "7f821922",
   "metadata": {},
   "outputs": [],
   "source": [
    "for i,l in enumerate(losses2):\n",
    "    losses2[i] = float(l)"
   ]
  },
  {
   "cell_type": "code",
   "execution_count": 54,
   "id": "c21ff070",
   "metadata": {},
   "outputs": [
    {
     "data": {
      "image/png": "[encoded data removed]",
      "text/plain": [
       "<Figure size 432x288 with 1 Axes>"
      ]
     },
     "metadata": {
      "needs_background": "light"
     },
     "output_type": "display_data"
    }
   ],
   "source": [
    "plt.plot(np.array(losses), color='r', label='one-layer')\n",
    "plt.plot(np.array(losses2), color='g', label='multi layer')\n",
    "  \n",
    "# Naming the x-axis, y-axis and the whole graph\n",
    "plt.xlabel(\"Epoch\")\n",
    "plt.ylabel(\"Loss\")\n",
    "  \n",
    "# Adding legend, which helps us recognize the curve according to it's color\n",
    "plt.legend()\n",
    "  \n",
    "# To load the display window\n",
    "plt.show()"
   ]
  },
  {
   "cell_type": "code",
   "execution_count": null,
   "id": "7eead0cc",
   "metadata": {},
   "outputs": [],
   "source": []
  }
 ],
 "metadata": {
  "kernelspec": {
   "display_name": "Python 3 (ipykernel)",
   "language": "python",
   "name": "python3"
  },
  "language_info": {
   "codemirror_mode": {
    "name": "ipython",
    "version": 3
   },
   "file_extension": ".py",
   "mimetype": "text/x-python",
   "name": "python",
   "nbconvert_exporter": "python",
   "pygments_lexer": "ipython3",
   "version": "3.9.5"
  }
 },
 "nbformat": 4,
 "nbformat_minor": 5
}
